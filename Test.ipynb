{
 "cells": [
  {
   "cell_type": "markdown",
   "metadata": {},
   "source": [
    "# Notebook to Test all the different functionalities that were implemented\n",
    "\n",
    "### already tested (state 12.08.2020)\n",
    "- linear_regression class"
   ]
  },
  {
   "cell_type": "code",
   "execution_count": 42,
   "metadata": {},
   "outputs": [
    {
     "data": {
      "text/plain": [
       "<module 'library.classic_ml' from 'd:\\\\git_projects\\\\basic_ml\\\\library\\\\classic_ml.py'>"
      ]
     },
     "execution_count": 42,
     "metadata": {},
     "output_type": "execute_result"
    }
   ],
   "source": [
    "from importlib import reload\n",
    "import library.classic_ml\n",
    "reload(library.classic_ml)"
   ]
  },
  {
   "cell_type": "code",
   "execution_count": 45,
   "metadata": {},
   "outputs": [],
   "source": [
    "from library.classic_ml import linear_regression\n",
    "lr = linear_regression()\n",
    "\n",
    "x = [-3, -1, 0, 2, 4]\n",
    "y = [-4, 1, 1, 2, 6]\n",
    "x_test = x\n",
    "\n",
    "x2 = [[1,2],[2,1]]\n",
    "y2 = [[2,2],[3,4]]\n",
    "x2_test = [[2,1]]"
   ]
  },
  {
   "cell_type": "code",
   "execution_count": 49,
   "metadata": {},
   "outputs": [
    {
     "data": {
      "text/plain": [
       "array([[-3.06164384],\n",
       "       [-0.55479452],\n",
       "       [ 0.69863014],\n",
       "       [ 3.20547945],\n",
       "       [ 5.71232877]])"
      ]
     },
     "execution_count": 49,
     "metadata": {},
     "output_type": "execute_result"
    }
   ],
   "source": [
    "lr.train(x,y,mode=\"l\")\n",
    "lr.predict(x_test)"
   ]
  },
  {
   "cell_type": "code",
   "execution_count": null,
   "metadata": {},
   "outputs": [],
   "source": []
  }
 ],
 "metadata": {
  "kernelspec": {
   "display_name": "Python 3",
   "language": "python",
   "name": "python3"
  },
  "language_info": {
   "codemirror_mode": {
    "name": "ipython",
    "version": 3
   },
   "file_extension": ".py",
   "mimetype": "text/x-python",
   "name": "python",
   "nbconvert_exporter": "python",
   "pygments_lexer": "ipython3",
   "version": "3.6.5"
  }
 },
 "nbformat": 4,
 "nbformat_minor": 4
}
