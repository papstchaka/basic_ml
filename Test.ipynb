{
 "cells": [
  {
   "cell_type": "markdown",
   "metadata": {},
   "source": [
    "# Notebook to Test all the different functionalities that were implemented\n",
    "\n",
    "### already tested (state 14.08.2020)\n",
    "- linear_regression class\n",
    "- clustering (still some bugs in function 'get_dendrogram_data')\n",
    "- dimension reduction (LDA + PCA)"
   ]
  },
  {
   "cell_type": "code",
   "execution_count": 134,
   "metadata": {},
   "outputs": [
    {
     "data": {
      "text/plain": [
       "<module 'library.classic_ml' from 'd:\\\\git_projects\\\\basic_ml\\\\library\\\\classic_ml.py'>"
      ]
     },
     "execution_count": 134,
     "metadata": {},
     "output_type": "execute_result"
    }
   ],
   "source": [
    "from importlib import reload\n",
    "import library.classic_ml\n",
    "reload(library.classic_ml)"
   ]
  },
  {
   "cell_type": "code",
   "execution_count": 135,
   "metadata": {},
   "outputs": [],
   "source": [
    "from library.classic_ml import dimension_reduction\n",
    "d = dimension_reduction()\n",
    "\n",
    "import numpy as np\n",
    "class1 = np.array([[4,1],[2,4],[2,3],[3,6],[4,4]])\n",
    "class2 = np.array([[9,10],[6,8],[9,5],[8,7],[10,8]])\n",
    "test = np.array([7,4])"
   ]
  },
  {
   "cell_type": "code",
   "execution_count": 137,
   "metadata": {},
   "outputs": [
    {
     "name": "stdout",
     "output_type": "stream",
     "text": [
      "Mean of data:\n",
      "[3.  3.6]\n",
      "Covariance Matrix:\n",
      "[[ 0.8  -0.4 ]\n",
      " [-0.4   2.64]]\n",
      "within-class Scatter Matrix:\n",
      "[[49. 52.]\n",
      " [52. 78.]]\n",
      "eigenvalues correct\n",
      "Variance explained:\n",
      "eigenvalue 1: 0.96%\n",
      "eigenvalue 2: 0.04%\n",
      "Matrix W:\n",
      "[[ 0.76822128]\n",
      " [-0.6401844 ]]\n"
     ]
    },
    {
     "data": {
      "text/plain": [
       "array([2.81681136])"
      ]
     },
     "execution_count": 137,
     "metadata": {},
     "output_type": "execute_result"
    }
   ],
   "source": [
    "d.pca(np.array(class1),1,1)\n",
    "d.transform(test)"
   ]
  },
  {
   "cell_type": "code",
   "execution_count": null,
   "metadata": {},
   "outputs": [],
   "source": []
  }
 ],
 "metadata": {
  "kernelspec": {
   "display_name": "Python 3",
   "language": "python",
   "name": "python3"
  },
  "language_info": {
   "codemirror_mode": {
    "name": "ipython",
    "version": 3
   },
   "file_extension": ".py",
   "mimetype": "text/x-python",
   "name": "python",
   "nbconvert_exporter": "python",
   "pygments_lexer": "ipython3",
   "version": "3.6.5"
  }
 },
 "nbformat": 4,
 "nbformat_minor": 4
}
